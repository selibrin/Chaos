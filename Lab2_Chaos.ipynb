{
  "cells": [
    {
      "cell_type": "markdown",
      "id": "9a4fbb73",
      "metadata": {
        "id": "9a4fbb73"
      },
      "source": [
        "<h1> Лабораторная работа №2 </h1>"
      ]
    },
    {
      "cell_type": "markdown",
      "id": "a743184f",
      "metadata": {
        "id": "a743184f"
      },
      "source": [
        "<span style=\"font-style:normal; font-size:10pt;\"> \n",
        "\n",
        "<h2> С помощью критерия Бенедиксона и теории индекса обсудить возможность возникновения предельных циклов в следующих динамических системах. </h2> \n",
        " \n",
        "  \n",
        "\\\\\n",
        "\\begin{cases}\n",
        "\\dot{x} = a - x - bx + x^{2}y,\\\\\n",
        "\\dot{y} = bx - x^{2}y.\\\\\n",
        "\\end{cases}\n",
        "\n",
        "\n"
      ]
    },
    {
      "cell_type": "code",
      "execution_count": null,
      "id": "ca1ac4c7",
      "metadata": {
        "id": "ca1ac4c7"
      },
      "outputs": [],
      "source": [
        "import matplotlib.pyplot as plt\n",
        "from matplotlib.patches import Ellipse\n",
        "from matplotlib.collections import PatchCollection\n",
        "from matplotlib import cm\n",
        "from matplotlib.colors import ListedColormap\n",
        "import numpy as np\n",
        "from fractions import Fraction"
      ]
    },
    {
      "cell_type": "markdown",
      "id": "88b8ae3f",
      "metadata": {
        "id": "88b8ae3f"
      },
      "source": [
        "### Ход работы"
      ]
    },
    {
      "cell_type": "markdown",
      "id": "1e337964",
      "metadata": {
        "id": "1e337964"
      },
      "source": [
        "#### 1. Воспользуемся критерием Бенедиксона для определения зон, в которых не могут существовать замкнутые траектории:"
      ]
    },
    {
      "cell_type": "markdown",
      "id": "67432c09",
      "metadata": {
        "id": "67432c09"
      },
      "source": [
        "> <span style=\"font-style:normal; font-size:12pt;\"> \n",
        "$$\n",
        "    \\begin{equation}\n",
        "        f(x, y) = a - x - bx + x^{2}y, \\ g(x, y) = bx - x^{2}y \\\\\n",
        "    \\end{equation}\n",
        "$$\n",
        "    <p></p>\n",
        "$$\n",
        "    \\begin{equation}\n",
        "        \\frac{\\partial{f}}{\\partial{x}} = -1 - b + 2xy, \\ \\frac{\\partial{g}}{\\partial{y}} = -x^{2} \\\\\n",
        "    \\end{equation}\n",
        "$$\n",
        "    <p></p>\n",
        "$$\n",
        "    \\begin{equation}\n",
        "        \\frac{\\partial{f}}{\\partial{x}} +                                       \\frac{\\partial{g}}{\\partial{y}} = -x^{2} +2xy -b -1  \\\\\n",
        "    \\end{equation}\n",
        "$$\n",
        "    <p></p>\n",
        "$$\n",
        "    \\begin{equation}\n",
        "        -x^{2} +2xy -b -1 = 0, \\\\\n",
        "        y = \\frac{x}{2} + \\frac{b+1}{2x} \\\\  \\\\\n",
        "    \\end{equation}\n",
        "$$\n",
        "    <p>\n",
        "        Граница областей - гипербола с асимптотами x=0 и y=x/2 и центром в 0.\n",
        "    </p>\n",
        "</span>"
      ]
    },
    {
      "cell_type": "markdown",
      "id": "022c2eaa",
      "metadata": {
        "id": "022c2eaa"
      },
      "source": [
        "#### 2. Найдем стационарные точки и определим их тип."
      ]
    },
    {
      "cell_type": "markdown",
      "id": "6818e606",
      "metadata": {
        "id": "6818e606"
      },
      "source": [
        "><span style=\"font-style:normal; font-size:12pt;\"> \n",
        "    <p>\n",
        "        Стационарные точки можно найти аналитически, приравняв правые части системы к нулю и решив относительно двух неизвестных x и y:\n",
        "    </p>\n",
        "    <p></p>\n",
        "$$\n",
        "    \\begin{gathered} \n",
        "        \\begin{cases}\n",
        "            x = a \\\\\n",
        "            y = \\frac{b}{a} \\\\\n",
        "        \\end{cases} \\\\\n",
        "    \\end{gathered} \n",
        "$$\n",
        "    <p></p>\n",
        "    <p>\n",
        "        a и b - параметры. Примем для определенности a = 2, b = 8\n",
        "    </p>\n",
        "</span>"
      ]
    },
    {
      "cell_type": "code",
      "execution_count": null,
      "id": "a4c03165",
      "metadata": {
        "id": "a4c03165"
      },
      "outputs": [],
      "source": [
        "a = 2\n",
        "b = 8"
      ]
    },
    {
      "cell_type": "code",
      "execution_count": null,
      "id": "79033e60",
      "metadata": {
        "id": "79033e60"
      },
      "outputs": [],
      "source": [
        "x1 = a # 2\n",
        "y1 = b/a # 4"
      ]
    },
    {
      "cell_type": "code",
      "execution_count": null,
      "id": "8affa015",
      "metadata": {
        "id": "8affa015"
      },
      "outputs": [],
      "source": [
        "x_plot = np.linspace(-10, 10, 100)\n",
        "y_plot = [x/2 + (b+1)/(2*x) for x in x_plot]"
      ]
    },
    {
      "cell_type": "code",
      "execution_count": null,
      "id": "40a27802",
      "metadata": {
        "colab": {
          "base_uri": "https://localhost:8080/",
          "height": 404
        },
        "id": "40a27802",
        "outputId": "616ee8d5-5ca2-4c45-f22a-f319fc2ba12b"
      },
      "outputs": [
        {
          "output_type": "display_data",
          "data": {
            "text/plain": [
              "<Figure size 576x432 with 1 Axes>"
            ],
            "image/png": "[encoded data removed]"
          },
          "metadata": {
            "needs_background": "light"
          }
        }
      ],
      "source": [
        "fig, ax = plt.subplots(figsize=(8, 6))\n",
        "\n",
        "ax.plot(x_plot, y_plot, color=\"red\", linewidth=0.5, label=\"y=x/2 + (b+1)/(2x)\")\n",
        "plt.axvline(x=0, linewidth=0.8, color=\"black\")\n",
        "plt.axhline(y=0, linewidth=0.8, color=\"black\")\n",
        "\n",
        "ax.scatter(np.linspace(-10, 10, 20), np.zeros(20), color=\"black\", marker='|')\n",
        "ax.scatter(np.zeros(20), np.linspace(-10, 10, 20), color=\"black\", marker='_')\n",
        "\n",
        "ax.scatter(x1, y1, color=\"black\", linewidth=0.01)\n",
        "\n",
        "plt.text(x1 + 0.2, y1, \"({0},{1})\".format(x1, int(y1)), fontsize = 10)\n",
        "\n",
        "\n",
        "patches = []\n",
        "\n",
        "ellipse = Ellipse((x1-1.5, y1-4), width=15, height=6, angle=65, fc='None',\n",
        "                  edgecolor='green', lw=1.4)\n",
        "\n",
        "patches.append(ellipse)\n",
        "                          \n",
        "#p = PatchCollection(patches)\n",
        "ax.add_patch(ellipse)\n",
        "\n",
        "                          \n",
        "plt.xlim(-10, 10)\n",
        "plt.ylim(-10, 10)\n",
        "plt.text(-9.9, 7, \"Замкнутые траектории могут быть\\nтолько на пересечении \\\n",
        "областей,\\nразделяемой гиперболой. Например,\\nвот такой эллипс.\", fontsize=11)\n",
        "\n",
        "ax.set_xlabel(\"x\")\n",
        "ax.set_ylabel(\"y\")\n",
        "\n",
        "plt.title(\"Границы областей и стационарная точка\")\n",
        "plt.legend(fontsize=8)\n",
        "plt.show()"
      ]
    },
    {
      "cell_type": "markdown",
      "id": "cf3a38dd",
      "metadata": {
        "id": "cf3a38dd"
      },
      "source": [
        "><span style=\"font-style:normal; font-size:12pt;\"> \n",
        "    <p>\n",
        "        Для исследования устойчивости системы воспользуемся теоремой Ляпунова по первому приближению.\n",
        "    </p>\n",
        "</span>    "
      ]
    },
    {
      "cell_type": "markdown",
      "id": "47ddbe4f",
      "metadata": {
        "id": "47ddbe4f"
      },
      "source": [
        "><span style=\"font-weight: bold; font-size:11pt;\"> \n",
        "</span>\n",
        "    <span style=\"font-weight: normal; font-size:12pt;\"> \n",
        "$\n",
        "    x = 2, \\ y = 4:\n",
        "$\n",
        "$$\n",
        "    \\begin{cases}\n",
        "        x = u + 2,  \\\\\n",
        "        y = v + 4\n",
        "    \\end{cases}\n",
        "$$\n",
        "    <p>\n",
        "        Подставляем:\n",
        "    </p>\n",
        "$$\n",
        "    \\begin{cases}\n",
        "        \\dot{u} = 2 - u - 2 - 8u - 16 + (u+2)^2(v+4),\\\\\n",
        "        \\dot{v} = 8u + 16 - (u+2)^2(v+4).\n",
        "    \\end{cases}\n",
        "$$\n",
        "    <p>\n",
        "        Линеаризируем:\n",
        "    </p>\n",
        "$$\n",
        "    \\begin{cases}\n",
        "        \\dot{u} = -9u + 4v + \\bar o(\\sqrt (u^2+v^2)),\\\\\n",
        "        \\dot{v} = -8u - 4v + \\bar o(\\sqrt (u^2+v^2)).\n",
        "    \\end{cases}\n",
        "$$\n",
        "    <p>\n",
        "        Приравниваем определитель к нулю и находим собственные значения:\n",
        "    </p>\n",
        "$$\n",
        "    \\begin{equation}\n",
        "    \\begin{vmatrix}\n",
        "      -9-\\lambda &  4\\\\ \n",
        "      -8 & -4-\\lambda\n",
        "    \\end{vmatrix}\n",
        "    = λ^2 + 13λ + 68 = 0\n",
        "    \\end{equation}\n",
        "$$\n",
        "    <p>\n",
        "        Собственные значения (один собственный вектор):\n",
        "    </p>\n",
        "$$\n",
        "    \\lambda_{1} = -\\frac{13}{2} - \\frac{i\\sqrt103}{2}, \\\\\n",
        "    \\lambda_{2} = -\\frac{13}{2} + \\frac{i\\sqrt103}{2}.\n",
        "$$\n",
        "    <p>\n",
        "        Итог: устойчивый фокус, индекс равен 1.\n",
        "    </p>"
      ]
    },
    {
      "cell_type": "markdown",
      "id": "711bd3d9",
      "metadata": {
        "id": "711bd3d9"
      },
      "source": [
        "#### 3. Области предельных циклов"
      ]
    },
    {
      "cell_type": "markdown",
      "id": "1ffb6226",
      "metadata": {
        "id": "1ffb6226"
      },
      "source": [
        "<span style=\"font-style:normal; font-size:12pt;\"> \n",
        "    <ol>\n",
        "        <li> По критерию Бенедиксона в областях, разделяемой кривой, нет замкнутый траекторий; </li>\n",
        "        <li> В области, включающей стационарную точку (2, 4), как эллипс на графике, может быть замкнутая траектория, так как индекс стационарной точки (2, 4) равен 1, то есть векторное поле сделает один полный оборот при обхождении замкнутой кривой по часовой стрелке в окрестности этой точки; </li>\n",
        "        <li> В области, не включающей стационарную точку (2, 4), замкнутых траекторий быть не может.\n",
        "    </ol>\n",
        "</span>    "
      ]
    },
    {
      "cell_type": "code",
      "source": [
        ""
      ],
      "metadata": {
        "id": "b4xNygF1t0wb"
      },
      "id": "b4xNygF1t0wb",
      "execution_count": null,
      "outputs": []
    }
  ],
  "metadata": {
    "kernelspec": {
      "display_name": "Python 3",
      "language": "python",
      "name": "python3"
    },
    "language_info": {
      "codemirror_mode": {
        "name": "ipython",
        "version": 3
      },
      "file_extension": ".py",
      "mimetype": "text/x-python",
      "name": "python",
      "nbconvert_exporter": "python",
      "pygments_lexer": "ipython3",
      "version": "3.8.8"
    },
    "colab": {
      "name": "Lab2_Chaos.ipynb",
      "provenance": [],
      "collapsed_sections": []
    }
  },
  "nbformat": 4,
  "nbformat_minor": 5
}